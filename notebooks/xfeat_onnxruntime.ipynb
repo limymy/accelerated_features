{
 "cells": [
  {
   "cell_type": "code",
   "execution_count": 11,
   "metadata": {},
   "outputs": [],
   "source": [
    "import numpy as np\n",
    "import os\n",
    "import onnxruntime as ort\n",
    "import tqdm\n",
    "import cv2\n",
    "\n",
    "model_path = '../xfeat.onnx'\n",
    "\n",
    "#Load some example images\n",
    "im1 = cv2.imread('../assets/ref.png', cv2.IMREAD_COLOR)"
   ]
  },
  {
   "cell_type": "code",
   "execution_count": 12,
   "metadata": {},
   "outputs": [
    {
     "name": "stdout",
     "output_type": "stream",
     "text": [
      "Input name: images, shape: ['batch_size', 3, 'height', 'width']\n",
      "Input name: top_k, shape: []\n",
      "Output name: keypoints, shape: ['ScatterNDkeypoints_dim_0', 'ScatterNDkeypoints_dim_1', 2]\n",
      "Output name: scores, shape: ['GatherElementsscores_dim_0', 'GatherElementsscores_dim_1']\n",
      "Output name: descriptors, shape: ['Divdescriptors_dim_0', 'Divdescriptors_dim_1', 64]\n"
     ]
    }
   ],
   "source": [
    "tmp_ort_session = ort.InferenceSession(model_path, providers=['CPUExecutionProvider'])\n",
    "\n",
    "# print the input,output names and shapes\n",
    "for i in range(len(tmp_ort_session.get_inputs())):\n",
    "    print(f\"Input name: {tmp_ort_session.get_inputs()[i].name}, shape: {tmp_ort_session.get_inputs()[i].shape}\")\n",
    "for i in range(len(tmp_ort_session.get_outputs())):\n",
    "    print(f\"Output name: {tmp_ort_session.get_outputs()[i].name}, shape: {tmp_ort_session.get_outputs()[i].shape}\")\n",
    "\n",
    "\n",
    "providers = [\n",
    "    # ('TensorrtExecutionProvider', { \n",
    "    #     'device_id': 0,\n",
    "    #     'trt_max_workspace_size': 1 * 1024 * 1024 * 1024,\n",
    "    #     'trt_fp16_enable': True,\n",
    "    #     'trt_engine_cache_enable': True,\n",
    "    #     'trt_engine_cache_path': './trt_engine_cache',\n",
    "    #     'trt_engine_cache_prefix': 'xfeat',\n",
    "    #     'trt_dump_subgraphs': False,\n",
    "    #     'trt_timing_cache_enable': True,\n",
    "    #     'trt_timing_cache_path': './trt_engine_cache',\n",
    "    #     #'trt_builder_optimization_level': 3,\n",
    "    # }),\n",
    "    # ('CUDAExecutionProvider', {\n",
    "    #     'device_id': 0,\n",
    "    #     'gpu_mem_limit': 1 * 1024 * 1024 * 1024,\n",
    "    # }),\n",
    "    ('CPUExecutionProvider',{ \n",
    "    })\n",
    "]\n",
    "ort_session = ort.InferenceSession(model_path, providers=providers)"
   ]
  },
  {
   "cell_type": "markdown",
   "metadata": {},
   "source": [
    "## Prepare the input tensor"
   ]
  },
  {
   "cell_type": "code",
   "execution_count": 13,
   "metadata": {},
   "outputs": [],
   "source": [
    "# im1 = cv2.resize(im1, (640, 640)) # for bechmarking\n",
    "\n",
    "input_array_1 = im1.transpose(2, 0, 1).astype(np.float32)\n",
    "input_array_1 = np.expand_dims(input_array_1, axis=0)\n",
    "\n",
    "batch_size = 8\n",
    "\n",
    "# Psuedo-batch the input images\n",
    "input_array_1 = np.concatenate([input_array_1 for _ in range(batch_size)], axis=0)\n",
    "\n",
    "inputs = {\n",
    "  ort_session.get_inputs()[0].name: input_array_1,\n",
    "}"
   ]
  },
  {
   "cell_type": "markdown",
   "metadata": {},
   "source": [
    "## Run"
   ]
  },
  {
   "cell_type": "code",
   "execution_count": 14,
   "metadata": {},
   "outputs": [
    {
     "ename": "ValueError",
     "evalue": "Required inputs (['top_k']) are missing from input feed (['images']).",
     "output_type": "error",
     "traceback": [
      "\u001b[0;31m---------------------------------------------------------------------------\u001b[0m",
      "\u001b[0;31mValueError\u001b[0m                                Traceback (most recent call last)",
      "Cell \u001b[0;32mIn[14], line 1\u001b[0m\n\u001b[0;32m----> 1\u001b[0m outputs \u001b[38;5;241m=\u001b[39m \u001b[43mort_session\u001b[49m\u001b[38;5;241;43m.\u001b[39;49m\u001b[43mrun\u001b[49m\u001b[43m(\u001b[49m\u001b[38;5;28;43;01mNone\u001b[39;49;00m\u001b[43m,\u001b[49m\u001b[43m \u001b[49m\u001b[43minputs\u001b[49m\u001b[43m)\u001b[49m\n",
      "File \u001b[0;32m~/miniconda3/envs/xfeat/lib/python3.12/site-packages/onnxruntime/capi/onnxruntime_inference_collection.py:262\u001b[0m, in \u001b[0;36mSession.run\u001b[0;34m(self, output_names, input_feed, run_options)\u001b[0m\n\u001b[1;32m    248\u001b[0m \u001b[38;5;28;01mdef\u001b[39;00m\u001b[38;5;250m \u001b[39m\u001b[38;5;21mrun\u001b[39m(\u001b[38;5;28mself\u001b[39m, output_names, input_feed, run_options\u001b[38;5;241m=\u001b[39m\u001b[38;5;28;01mNone\u001b[39;00m):\n\u001b[1;32m    249\u001b[0m \u001b[38;5;250m    \u001b[39m\u001b[38;5;124;03m\"\"\"\u001b[39;00m\n\u001b[1;32m    250\u001b[0m \u001b[38;5;124;03m    Compute the predictions.\u001b[39;00m\n\u001b[1;32m    251\u001b[0m \n\u001b[0;32m   (...)\u001b[0m\n\u001b[1;32m    260\u001b[0m \u001b[38;5;124;03m        sess.run([output_name], {input_name: x})\u001b[39;00m\n\u001b[1;32m    261\u001b[0m \u001b[38;5;124;03m    \"\"\"\u001b[39;00m\n\u001b[0;32m--> 262\u001b[0m     \u001b[38;5;28;43mself\u001b[39;49m\u001b[38;5;241;43m.\u001b[39;49m\u001b[43m_validate_input\u001b[49m\u001b[43m(\u001b[49m\u001b[38;5;28;43mlist\u001b[39;49m\u001b[43m(\u001b[49m\u001b[43minput_feed\u001b[49m\u001b[38;5;241;43m.\u001b[39;49m\u001b[43mkeys\u001b[49m\u001b[43m(\u001b[49m\u001b[43m)\u001b[49m\u001b[43m)\u001b[49m\u001b[43m)\u001b[49m\n\u001b[1;32m    263\u001b[0m     \u001b[38;5;28;01mif\u001b[39;00m \u001b[38;5;129;01mnot\u001b[39;00m output_names:\n\u001b[1;32m    264\u001b[0m         output_names \u001b[38;5;241m=\u001b[39m [output\u001b[38;5;241m.\u001b[39mname \u001b[38;5;28;01mfor\u001b[39;00m output \u001b[38;5;129;01min\u001b[39;00m \u001b[38;5;28mself\u001b[39m\u001b[38;5;241m.\u001b[39m_outputs_meta]\n",
      "File \u001b[0;32m~/miniconda3/envs/xfeat/lib/python3.12/site-packages/onnxruntime/capi/onnxruntime_inference_collection.py:244\u001b[0m, in \u001b[0;36mSession._validate_input\u001b[0;34m(self, feed_input_names)\u001b[0m\n\u001b[1;32m    242\u001b[0m         missing_input_names\u001b[38;5;241m.\u001b[39mappend(\u001b[38;5;28minput\u001b[39m\u001b[38;5;241m.\u001b[39mname)\n\u001b[1;32m    243\u001b[0m \u001b[38;5;28;01mif\u001b[39;00m missing_input_names:\n\u001b[0;32m--> 244\u001b[0m     \u001b[38;5;28;01mraise\u001b[39;00m \u001b[38;5;167;01mValueError\u001b[39;00m(\n\u001b[1;32m    245\u001b[0m         \u001b[38;5;124mf\u001b[39m\u001b[38;5;124m\"\u001b[39m\u001b[38;5;124mRequired inputs (\u001b[39m\u001b[38;5;132;01m{\u001b[39;00mmissing_input_names\u001b[38;5;132;01m}\u001b[39;00m\u001b[38;5;124m) are missing from input feed (\u001b[39m\u001b[38;5;132;01m{\u001b[39;00mfeed_input_names\u001b[38;5;132;01m}\u001b[39;00m\u001b[38;5;124m).\u001b[39m\u001b[38;5;124m\"\u001b[39m\n\u001b[1;32m    246\u001b[0m     )\n",
      "\u001b[0;31mValueError\u001b[0m: Required inputs (['top_k']) are missing from input feed (['images'])."
     ]
    }
   ],
   "source": [
    "outputs = ort_session.run(None, inputs)"
   ]
  },
  {
   "cell_type": "code",
   "execution_count": 5,
   "metadata": {},
   "outputs": [
    {
     "name": "stdout",
     "output_type": "stream",
     "text": [
      "Output name: feats, shape: (8, 64, 75, 100)\n",
      "Output name: keypoints, shape: (8, 65, 75, 100)\n",
      "Output name: heatmaps, shape: (8, 1, 75, 100)\n"
     ]
    }
   ],
   "source": [
    "for i in range(len(outputs)):\n",
    "    print(f\"Output name: {ort_session.get_outputs()[i].name}, shape: {outputs[i].shape}\")"
   ]
  },
  {
   "cell_type": "code",
   "execution_count": 6,
   "metadata": {},
   "outputs": [
    {
     "name": "stdout",
     "output_type": "stream",
     "text": [
      "equal: [True, True, True, True, True, True, True, True, True, True, True, True, True, True, True, True, True, True, True, True, True]\n"
     ]
    }
   ],
   "source": [
    "# Validate the outputs of the psuedo-batched inputs\n",
    "\n",
    "feats = outputs[0]\n",
    "keypoints = outputs[1]\n",
    "heatmaps = outputs[2]\n",
    "\n",
    "feats_0 = feats[0]\n",
    "keypoints_0 = keypoints[0]\n",
    "heatmaps_0 = heatmaps[0]\n",
    "\n",
    "valid = []\n",
    "for i in range(1, input_array_1.shape[0]):\n",
    "    valid.append(np.all(feats_0 == feats[i]))\n",
    "    valid.append(np.all(keypoints_0 == keypoints[i]))\n",
    "    valid.append(np.all(heatmaps_0 == heatmaps[i]))\n",
    "print(f\"equal: {valid}\")"
   ]
  },
  {
   "cell_type": "code",
   "execution_count": 7,
   "metadata": {},
   "outputs": [
    {
     "name": "stderr",
     "output_type": "stream",
     "text": [
      "100%|██████████| 100/100 [00:03<00:00, 31.91it/s]"
     ]
    },
    {
     "name": "stdout",
     "output_type": "stream",
     "text": [
      "Average time per batch: 0.0314 seconds\n",
      "Average time per image: 0.0039 seconds\n",
      "Average FPS per image: 254.7242\n"
     ]
    },
    {
     "name": "stderr",
     "output_type": "stream",
     "text": [
      "\n"
     ]
    }
   ],
   "source": [
    "import time\n",
    "\n",
    "# Run the model 100 times to get an average time\n",
    "loop = 100\n",
    "start = time.perf_counter()\n",
    "for i in tqdm.tqdm(range(loop)):\n",
    "    outputs = ort_session.run(None, inputs)\n",
    "duration = time.perf_counter()-start\n",
    "\n",
    "print(f\"Average time per batch: {duration/loop:.4f} seconds\")\n",
    "print(f\"Average time per image: {duration/loop/batch_size:.4f} seconds\")\n",
    "print(f\"Average FPS per image: {batch_size*loop/duration:.4f}\")"
   ]
  }
 ],
 "metadata": {
  "kernelspec": {
   "display_name": "xfeat",
   "language": "python",
   "name": "python3"
  },
  "language_info": {
   "codemirror_mode": {
    "name": "ipython",
    "version": 3
   },
   "file_extension": ".py",
   "mimetype": "text/x-python",
   "name": "python",
   "nbconvert_exporter": "python",
   "pygments_lexer": "ipython3",
   "version": "3.12.8"
  }
 },
 "nbformat": 4,
 "nbformat_minor": 2
}
